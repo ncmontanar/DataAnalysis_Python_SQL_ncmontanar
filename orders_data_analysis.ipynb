{
 "cells": [
  {
   "cell_type": "code",
   "execution_count": null,
   "metadata": {},
   "outputs": [],
   "source": [
    "# import libraries\n",
    "! pip install kaggle "
   ]
  },
  {
   "cell_type": "code",
   "execution_count": null,
   "metadata": {},
   "outputs": [],
   "source": [
    "#import DBB (dwnload from kaggle)\n",
    "! kaggle datasets download ankitbansal06/retail-orders -f orders.csv    "
   ]
  },
  {
   "cell_type": "code",
   "execution_count": 2,
   "metadata": {},
   "outputs": [],
   "source": [
    "#unzipp the DBB zip\n",
    "import zipfile\n",
    "zip_ref = zipfile.ZipFile('orders.csv.zip') #method pour \n",
    "zip_ref.extractall()  #si tu veux ouvrir ailleurs -> give the path here\n",
    "zip_ref.close()"
   ]
  },
  {
   "cell_type": "code",
   "execution_count": null,
   "metadata": {},
   "outputs": [],
   "source": [
    "#read data from the file and handle null values\n",
    "import pandas as pd"
   ]
  },
  {
   "cell_type": "code",
   "execution_count": null,
   "metadata": {},
   "outputs": [],
   "source": [
    "df = pd.read_csv('orders.csv')\n",
    "df.head(15) #take a look"
   ]
  },
  {
   "cell_type": "code",
   "execution_count": null,
   "metadata": {},
   "outputs": [],
   "source": [
    "df.shape"
   ]
  },
  {
   "cell_type": "code",
   "execution_count": null,
   "metadata": {},
   "outputs": [],
   "source": [
    "## 3. change the non-values for NaN\n",
    "df['Ship Mode'].unique() # montre les types- attirbutes de la colonne "
   ]
  },
  {
   "cell_type": "code",
   "execution_count": null,
   "metadata": {},
   "outputs": [],
   "source": [
    "#utiliser na_values methode\n",
    "df = pd.read_csv('orders.csv', na_values= ['Not Available', 'unknown'])\n",
    "df['Ship Mode'].unique()"
   ]
  },
  {
   "cell_type": "code",
   "execution_count": null,
   "metadata": {},
   "outputs": [],
   "source": [
    "#fix the colome names (1to1): \n",
    "df.rename(columns={'Order Id' : 'order_id'})"
   ]
  },
  {
   "cell_type": "code",
   "execution_count": null,
   "metadata": {},
   "outputs": [],
   "source": [
    "#rename nton\n",
    "df.columns"
   ]
  },
  {
   "cell_type": "code",
   "execution_count": null,
   "metadata": {},
   "outputs": [],
   "source": [
    "#df.columns.str.lower()\n",
    "df.columns = df.columns.str.lower()\n",
    "df"
   ]
  },
  {
   "cell_type": "code",
   "execution_count": null,
   "metadata": {},
   "outputs": [],
   "source": [
    "#replacer hiphens\n",
    "#df.columns.str.replace(' ','_')\n",
    "df.columns = df.columns.str.replace(' ','_')\n",
    "df"
   ]
  },
  {
   "cell_type": "code",
   "execution_count": null,
   "metadata": {},
   "outputs": [],
   "source": [
    "###calculate new columns :  discount , sale price and profit\n",
    "\n",
    "#df['list_price']*df['discount_percent']*.01\n",
    "\n",
    "df['discount'] = df['list_price']*df['discount_percent']*.01\n",
    "\n",
    "#df['list_price']-df['discount']\n",
    "df['sale_price'] = df['list_price']-df['discount']\n",
    "\n",
    "#df['sale_price']-df['cost_price']\n",
    "df['profit'] = df['sale_price']-df['cost_price']\n",
    "\n",
    "df.head(6)"
   ]
  },
  {
   "cell_type": "code",
   "execution_count": null,
   "metadata": {},
   "outputs": [],
   "source": [
    "# Print the column information\n",
    "df.info()"
   ]
  },
  {
   "cell_type": "code",
   "execution_count": null,
   "metadata": {},
   "outputs": [],
   "source": [
    "#convert order date from object data type to datetime\n",
    "df['order_date']=pd.to_datetime(df['order_date'],format=\"%Y-%m-%d\")\n",
    "df.head(6)"
   ]
  },
  {
   "cell_type": "code",
   "execution_count": null,
   "metadata": {},
   "outputs": [],
   "source": [
    "#convert order date from object data type to datetime (order_date):\n",
    "#df.drop(columns=['level_0','index','list_price','cost_price','discount_percent'],inplace=True) #attention à inplace=true\n",
    "df.head(6)\n"
   ]
  },
  {
   "cell_type": "code",
   "execution_count": null,
   "metadata": {},
   "outputs": [],
   "source": [
    "df.info()"
   ]
  },
  {
   "cell_type": "code",
   "execution_count": 58,
   "metadata": {},
   "outputs": [],
   "source": [
    "#load the data into sql server using replace option\n",
    "import sqlalchemy as sal\n"
   ]
  },
  {
   "cell_type": "code",
   "execution_count": 61,
   "metadata": {},
   "outputs": [],
   "source": [
    "## TO DO\n",
    "\n",
    "## connect to my sqlserver (is : DESKTOP-MT2MGIU  from sqlserver)  i.e. engine = sal.create_engine('mssql://ANKIT\\SQLEXPRESS/master?driver=ODBC+DRIVER+17+FOR+SQL+SERVER')\n",
    "# 1.on va creer une connection 'engine' et 2. le connector mssql (ou postre ou mysql si nécessaire) et 3. master est la base à la quelle je veux me connecter \n",
    "#  /master?driver=ODBC+DRIVER+17+FOR+SQL+SERVER vient de sqlserver bdd Master\n",
    "#pip install pyodbc\n",
    "# # driver : in windows rechercher : ODBC \n",
    "\n",
    "engine = sal.create_engine('mssql://DESKTOP-MT2MGIU/master?driver=ODBC+DRIVER+17+FOR+SQL+SERVER')\n",
    "conn=engine.connect()\n",
    "\n",
    "\n"
   ]
  },
  {
   "cell_type": "code",
   "execution_count": null,
   "metadata": {},
   "outputs": [],
   "source": [
    "#load the data into sql server using append option\n",
    "df.to_sql('df_orders', con=conn , index=False, if_exists = 'append')"
   ]
  },
  {
   "cell_type": "code",
   "execution_count": null,
   "metadata": {
    "vscode": {
     "languageId": "sql"
    }
   },
   "outputs": [],
   "source": [
    "/*to  get sharp with the DBB, drop the table, provide the rigth dLL adn change 'append' by 'replace'*/\n",
    "CREATE TABLE df_orders(\n",
    " [order_id] int PRIMARY KEY,         \n",
    " [order_date] date,\n",
    " [ship_mode] VARCHAR(20),        \n",
    " [segment] VARCHAR(20),        \n",
    " [country] VARCHAR(20),        \n",
    " [city] VARCHAR(20),        \n",
    " [state] VARCHAR(20),        \n",
    " [postal_code] VARCHAR(20),         \n",
    " [region] VARCHAR(20),        \n",
    " [category] VARCHAR(20),        \n",
    " [sub_category] VARCHAR(20),        \n",
    " [product_id] VARCHAR(20),        \n",
    " [quantity] int,         \n",
    " [discount] DECIMAL(7,2),       \n",
    " [sale_price] DECIMAL(7,2),       \n",
    " [profit] DECIMAL(7,2)\n",
    ")"
   ]
  },
  {
   "cell_type": "code",
   "execution_count": null,
   "metadata": {},
   "outputs": [],
   "source": [
    "#load the data into sql server using append option\n",
    "df.to_sql('df_orders', con=conn , index=False, if_exists = 'replace')"
   ]
  },
  {
   "cell_type": "code",
   "execution_count": null,
   "metadata": {},
   "outputs": [],
   "source": [
    "df.columns"
   ]
  },
  {
   "cell_type": "code",
   "execution_count": null,
   "metadata": {
    "vscode": {
     "languageId": "sql"
    }
   },
   "outputs": [],
   "source": [
    "SELECT TOP 10 * FROM df_orders;\n",
    "\n",
    "\n",
    "--find top 10 highest reveue generating products \n",
    "SELECT TOP 10 product_id, SUM(sale_price) as sales\n",
    "FROM df_orders\n",
    "GROUP BY product_id\n",
    "ORDER BY sales DESC;\n",
    "\n",
    "\n",
    "--find top 5 highest selling products in each region\n",
    "WITH fir1 AS(\n",
    "\tSELECT product_id, region, SUM(sale_price) as sales\n",
    "\tFROM df_orders\n",
    "\tGROUP BY region, product_id\n",
    ") SELECT * FROM  (SELECT *, \n",
    "RANK()OVER(PARTITION BY region ORDER BY sales desc) as rnk\n",
    "FROM fir1)\n",
    "\n",
    "\n",
    "/*----------------*/\n",
    "with cte as (\n",
    "select region,product_id,sum(sale_price) as sales\n",
    "from df_orders\n",
    "group by region,product_id)\n",
    "\n",
    "select * from \n",
    "(\n",
    "select *\n",
    ", row_number() over(partition by region order by sales desc) as rn\n",
    "from cte) A\n",
    "where rn<=5;\n",
    "\n",
    "--find month over month growth comparison for 2022 and 2023 sales eg : jan 2022 vs jan 2023\n",
    "--for each category which month had highest sales \n",
    "--which sub category had highest growth by profit in 2023 compare to 2022"
   ]
  },
  {
   "cell_type": "code",
   "execution_count": null,
   "metadata": {
    "vscode": {
     "languageId": "sql"
    }
   },
   "outputs": [],
   "source": [
    "\n",
    "--find month over month growth comparison for 2022 and 2023 sales eg : jan 2022 vs jan 2023\n",
    "with cte as (\n",
    "select year(order_date) as order_year,month(order_date) as order_month,\n",
    "sum(sale_price) as sales\n",
    "from df_orders\n",
    "group by year(order_date),month(order_date)\n",
    "--order by year(order_date),month(order_date)\n",
    "\t)\n",
    "select order_month\n",
    ", sum(case when order_year=2022 then sales else 0 end) as sales_2022\n",
    ", sum(case when order_year=2023 then sales else 0 end) as sales_2023\n",
    "from cte \n",
    "group by order_month\n",
    "order by order_month\n",
    "\n",
    "\n",
    "\n",
    "\n",
    "\n",
    "--for each category which month had highest sales \n",
    "with cte as (\n",
    "select category,format(order_date,'yyyyMM') as order_year_month\n",
    ", sum(sale_price) as sales \n",
    "from df_orders\n",
    "group by category,format(order_date,'yyyyMM')\n",
    "--order by category,format(order_date,'yyyyMM')\n",
    ")\n",
    "select * from (\n",
    "select *,\n",
    "row_number() over(partition by category order by sales desc) as rn\n",
    "from cte\n",
    ") a\n",
    "where rn=1\n",
    "\n",
    "\n",
    "\n",
    "\n",
    "\n",
    "\n",
    "--which sub category had highest growth by profit in 2023 compare to 2022\n",
    "with cte as (\n",
    "select sub_category,year(order_date) as order_year,\n",
    "sum(sale_price) as sales\n",
    "from df_orders\n",
    "group by sub_category,year(order_date)\n",
    "--order by year(order_date),month(order_date)\n",
    "\t)\n",
    ", cte2 as (\n",
    "select sub_category\n",
    ", sum(case when order_year=2022 then sales else 0 end) as sales_2022\n",
    ", sum(case when order_year=2023 then sales else 0 end) as sales_2023\n",
    "from cte \n",
    "group by sub_category\n",
    ")\n",
    "select top 1 *\n",
    ",(sales_2023-sales_2022)\n",
    "from  cte2\n",
    "order by (sales_2023-sales_2022) desc"
   ]
  }
 ],
 "metadata": {
  "kernelspec": {
   "display_name": "Python 3",
   "language": "python",
   "name": "python3"
  },
  "language_info": {
   "codemirror_mode": {
    "name": "ipython",
    "version": 3
   },
   "file_extension": ".py",
   "mimetype": "text/x-python",
   "name": "python",
   "nbconvert_exporter": "python",
   "pygments_lexer": "ipython3",
   "version": "3.11.5"
  }
 },
 "nbformat": 4,
 "nbformat_minor": 2
}
